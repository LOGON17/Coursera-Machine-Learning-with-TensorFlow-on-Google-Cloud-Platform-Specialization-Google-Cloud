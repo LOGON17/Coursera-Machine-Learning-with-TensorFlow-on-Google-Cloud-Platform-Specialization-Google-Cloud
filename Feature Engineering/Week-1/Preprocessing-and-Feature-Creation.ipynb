{
 "cells": [
  {
   "cell_type": "markdown",
   "metadata": {},
   "source": [
    "#### 1. You are training a model to predict how long it will take to sell a house. The list price of the house, with numeric 20,000 to 500,000 values, is one of the inputs to the model. Which of these is a good practice?"
   ]
  },
  {
   "cell_type": "markdown",
   "metadata": {},
   "source": [
    "##### Ans: Rescale the real valued feature like a price to a range from 0 to 1 "
   ]
  },
  {
   "cell_type": "markdown",
   "metadata": {},
   "source": [
    "#### 2. Which of these tools are commonly used for data pre-processing? (Select 3 correct responses)"
   ]
  },
  {
   "cell_type": "markdown",
   "metadata": {},
   "source": [
    "##### Ans: BigQuery, Apache Beam, TensorFlow"
   ]
  },
  {
   "cell_type": "markdown",
   "metadata": {},
   "source": [
    "#### 3. Which one of these is NOT something you would commonly do in data preprocessing?"
   ]
  },
  {
   "cell_type": "markdown",
   "metadata": {},
   "source": [
    "##### Ans: Tune your ML model hyperparameters"
   ]
  },
  {
   "cell_type": "markdown",
   "metadata": {},
   "source": [
    "#### 4. In your TensorFlow model you are calculating the distance between two points on a map as a new feature. How do you ensure the preprocessing you're doing for model training is also do the exact same way in prediction?\n",
    "<img src=\"https://d3c33hcgiwev3.cloudfront.net/imageAssetProxy.v1/04-5C0ygEeiqUw7FBf_ScA_afb08ea2403a916c99dc2f700197abb8_features-example.jpg?expiry=1544054400000&amp;hmac=z0TLIXwYylXv1b_-bqhOrlgsJt9oHo-GUmyAZ-_6XvM\" alt=\"\">"
   ]
  },
  {
   "cell_type": "markdown",
   "metadata": {},
   "source": [
    "##### Ans: Wrap features in training/evaluation input function AND wrap features in serving input function:\n",
    "<img src=\"https://d3c33hcgiwev3.cloudfront.net/imageAssetProxy.v1/MP_b_0yhEeirCxICdYDggg_f99dc55eddb3914b33192aed7460ff9f_input_fn.jpg?expiry=1544054400000&amp;hmac=djny1iAi7IF9pAWPlwU0jMVD2sPjIrX0jEuO0z7GJPs\" alt=\"\">\n",
    "<img src=\"https://d3c33hcgiwev3.cloudfront.net/imageAssetProxy.v1/PcsBRUyhEeiqUw7FBf_ScA_842d650eec24a781895ac4d92759e81f_serving_input_fn.jpg?expiry=1544054400000&amp;hmac=pWagZE7E1l8Nmrhxmk9_XQKX0trqM8_VwMs5ll7Wk3I\" alt=\"\">"
   ]
  },
  {
   "cell_type": "markdown",
   "metadata": {},
   "source": [
    "#### 5. The below code preprocesses the latitude and longitude using feature columns. What is the point of the 38.0 and 42.0 in the column buckets?\n",
    "<img src=\"https://d3c33hcgiwev3.cloudfront.net/imageAssetProxy.v1/rbVdzEyhEeiErArshWmU7g_fc779cae6ce57f0d5faa6fde8c94a8d0_bucketize-code.jpg?expiry=1544054400000&amp;hmac=b02aQJ8cSBJ4crET7j_dMxs-3ZPR5K791aC2Vp7J1Ss\" alt=\"\">"
   ]
  },
  {
   "cell_type": "markdown",
   "metadata": {},
   "source": [
    "##### Ans: Latitudes must be between 38 and 42 will be discretized into the specified number of bins."
   ]
  },
  {
   "cell_type": "markdown",
   "metadata": {},
   "source": [
    "#### 6. What are two advantages of using TensorFlow to preprocess your code instead of building an Apache Beam pipeline? (Select two correct responses)"
   ]
  },
  {
   "cell_type": "markdown",
   "metadata": {},
   "source": [
    "##### Ans: \n",
    "<ul>\n",
    "    <li>In TensorFlow the same pipelines can be used in both training and serving</li>\n",
    "    <li>In TensorFlow you will have access to helper APIs to help automatically bucketize and process features instead of writing your own java or python code</li>\n",
    "</ul>"
   ]
  },
  {
   "cell_type": "markdown",
   "metadata": {},
   "source": [
    "#### 7. What is one key advantage of preprocessing your features using Apache Beam?"
   ]
  },
  {
   "cell_type": "markdown",
   "metadata": {},
   "source": [
    "##### Ans: The same code you use to preprocess features in training and evaluation can also be used in serving"
   ]
  },
  {
   "cell_type": "code",
   "execution_count": null,
   "metadata": {},
   "outputs": [],
   "source": []
  }
 ],
 "metadata": {
  "kernelspec": {
   "display_name": "Python 3",
   "language": "python",
   "name": "python3"
  },
  "language_info": {
   "codemirror_mode": {
    "name": "ipython",
    "version": 3
   },
   "file_extension": ".py",
   "mimetype": "text/x-python",
   "name": "python",
   "nbconvert_exporter": "python",
   "pygments_lexer": "ipython3",
   "version": "3.6.4"
  }
 },
 "nbformat": 4,
 "nbformat_minor": 2
}
