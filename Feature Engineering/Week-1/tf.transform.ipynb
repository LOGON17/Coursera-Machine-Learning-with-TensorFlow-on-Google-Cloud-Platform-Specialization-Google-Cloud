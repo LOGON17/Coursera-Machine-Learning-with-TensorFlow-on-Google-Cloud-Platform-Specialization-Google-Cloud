{
 "cells": [
  {
   "cell_type": "markdown",
   "metadata": {},
   "source": [
    "#### 1. What is a common use case for where you would use tf.transform instead of a Cloud Dataflow pipeline or regular TensorFlow for preprocessing?"
   ]
  },
  {
   "cell_type": "markdown",
   "metadata": {},
   "source": [
    "##### Ans: You want to scale your inputs based on min/max value in the dataset, You need to compute the vocabulary list for categorical columns from your training dataset"
   ]
  },
  {
   "cell_type": "markdown",
   "metadata": {},
   "source": [
    "#### 2. The Analyze phase of tf.transform is carried out via:"
   ]
  },
  {
   "cell_type": "markdown",
   "metadata": {},
   "source": [
    "##### Ans: A Python Beam pipeline that contains TensorFlow functions"
   ]
  },
  {
   "cell_type": "markdown",
   "metadata": {},
   "source": [
    "#### 3. The Transform phase of tf.transform is carried out via:"
   ]
  },
  {
   "cell_type": "markdown",
   "metadata": {},
   "source": [
    "##### Ans: \n",
    "<ul>\n",
    "    <li>Inside a TensorFlow serving input function during prediction</li>\n",
    "    <li>Inside a Beam pipeline for training and in TensorFlow during evaluation</li>\n",
    "    <li>Inside a Beam pipeline for evaluation and in TensorFlow during training</li>\n",
    "    <li>A Beam pipeline while creating a training or evaluation dataset</li>\n",
    "</ul>"
   ]
  }
 ],
 "metadata": {
  "kernelspec": {
   "display_name": "Python 3",
   "language": "python",
   "name": "python3"
  },
  "language_info": {
   "codemirror_mode": {
    "name": "ipython",
    "version": 3
   },
   "file_extension": ".py",
   "mimetype": "text/x-python",
   "name": "python",
   "nbconvert_exporter": "python",
   "pygments_lexer": "ipython3",
   "version": "3.6.4"
  }
 },
 "nbformat": 4,
 "nbformat_minor": 2
}
