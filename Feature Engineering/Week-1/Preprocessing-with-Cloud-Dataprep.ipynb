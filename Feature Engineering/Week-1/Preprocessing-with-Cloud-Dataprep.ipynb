{
 "cells": [
  {
   "cell_type": "markdown",
   "metadata": {},
   "source": [
    "#### 1. What are some of the advantages to exploring datasets with a UI tool like Cloud Dataprep?"
   ]
  },
  {
   "cell_type": "markdown",
   "metadata": {},
   "source": [
    "##### Ans: \n",
    "<ul>\n",
    "    <li>Dataprep uses Dataflow behind-the-scenes and you can create your transformations in a UI tool instead of writing Java or Python</li>\n",
    "    <li>Dataprep has a number of transformation steps available that you can chain together as part of a recipe </li>\n",
    "    <li>Dataprep supports outputting your data into BigQuery, Google Cloud Storage, or flat files</li>\n",
    "</ul>"
   ]
  },
  {
   "cell_type": "markdown",
   "metadata": {},
   "source": [
    "#### 2. TRUE or FALSE: You can automatically setup pipelines to run at defined intervals with Cloud Dataprep"
   ]
  },
  {
   "cell_type": "markdown",
   "metadata": {},
   "source": [
    "##### Ans: True"
   ]
  }
 ],
 "metadata": {
  "kernelspec": {
   "display_name": "Python 3",
   "language": "python",
   "name": "python3"
  },
  "language_info": {
   "codemirror_mode": {
    "name": "ipython",
    "version": 3
   },
   "file_extension": ".py",
   "mimetype": "text/x-python",
   "name": "python",
   "nbconvert_exporter": "python",
   "pygments_lexer": "ipython3",
   "version": "3.6.4"
  }
 },
 "nbformat": 4,
 "nbformat_minor": 2
}
