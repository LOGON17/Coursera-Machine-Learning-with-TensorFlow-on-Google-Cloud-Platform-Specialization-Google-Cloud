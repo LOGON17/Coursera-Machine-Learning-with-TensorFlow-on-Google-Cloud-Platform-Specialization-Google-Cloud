{
 "cells": [
  {
   "cell_type": "markdown",
   "metadata": {},
   "source": [
    "#### 1. <p>\n",
    "        In each of the given situations the task is at one of the five phases of the “Path to ML”.\n",
    "\n",
    "        Identify the phase of each of tasks by writing\n",
    "\n",
    "        I for individual contributor\n",
    "\n",
    "        D for delegation\n",
    "\n",
    "        Z for digitization\n",
    "\n",
    "        B for big data and analytics\n",
    "\n",
    "        M for machine learning\n",
    "\n",
    "        ____ A manufacturing plant has a number of robotic arms. The manufacturing team uses the data collected on each arm to help determine its maintenance schedule.\n",
    "\n",
    "        ____ A team of customer service reps who take orders for an online catalog\n",
    "\n",
    "        ____ A librarian working the front desk at a city library\n",
    "\n",
    "        ____ City parking meters that change the hourly rate depending on anticipated demand\n",
    "\n",
    "        ____ An automated toll readers that read car license plates and charge the toll fee to the registered car owner\n",
    "       \n",
    "   </p>"
   ]
  },
  {
   "cell_type": "markdown",
   "metadata": {},
   "source": [
    "##### Ans: <p>\n",
    "    _B__ A manufacturing plant has a number of robotic arms. It uses the data collected on each arm to help determine its maintenance schedule.\n",
    "\n",
    "    _D__ A team of customer service reps for an online catalog\n",
    "\n",
    "    _I__ A librarian working the front desk at a city library\n",
    "    \n",
    "    _M__ City parking meters that change the hourly rate depending on the time of day\n",
    "\n",
    "    _Z__ An automated toll readers that read car license plates and charge the toll fee to the registered car owner\n",
    "   </p>"
   ]
  },
  {
   "cell_type": "markdown",
   "metadata": {},
   "source": [
    "#### 2. <p>\n",
    "    In each of the given situations a company is in one of the five phases of the “Path to ML”.\n",
    "\n",
    "    Identify the phase of each of tasks by writing\n",
    "\n",
    "    I for individual contributor\n",
    "    \n",
    "    D for delegation\n",
    "\n",
    "    Z for digitization\n",
    "\n",
    "    B for big data and analytics\n",
    "\n",
    "    M for machine learning\n",
    "\n",
    "    ___ All tasks (execution of process, choosing operational parameters, and feedback of parameters) are fully automated\n",
    "\n",
    "    ___ A person performs the task and instructions to complete the task are passed from person to person\n",
    "\n",
    "    ___ A computer executes the process and a software engineer ensures the parameters are part of the feedback loop. Parameters are chosen through analysis of historical patterns\n",
    "\n",
    "    ___ A computer executes the process but a person supplies the parameters via a graphical user interface\n",
    "\n",
    "    ___ A task is completed by a group of people\n",
    "   </p>"
   ]
  },
  {
   "cell_type": "markdown",
   "metadata": {},
   "source": [
    "##### Ans: <p>\n",
    "    _M__ All tasks (execution of process, choosing operational parameters, and feedback of parameters) are fully automated\n",
    "\n",
    "    _I__ A person performs the task and instructions to complete the task are passed from person to person\n",
    "\n",
    "    _B__ A computer executes the process and a software engineer ensures the parameters are part of the feedback loop. Parameters are chosen through analysis of historical patterns\n",
    "\n",
    "    _Z__ A computer executes the process but a person supplies the parameters via a graphical user interface\n",
    "\n",
    "    _D__ A task is completed by a group of people\n",
    "   </p>"
   ]
  },
  {
   "cell_type": "markdown",
   "metadata": {},
   "source": [
    "#### 3. <p>\n",
    "    You are a consultant for a company that is about to begin development on an ML model that they hope to deploy in the near future. They would like to have the model ready in one year. The company wants you to tell them where they should concentrate their efforts.\n",
    "\n",
    "    Which one of these tasks often requires the most effort.\n",
    "</p>"
   ]
  },
  {
   "cell_type": "markdown",
   "metadata": {},
   "source": [
    "##### Ans: Collecting data"
   ]
  }
 ],
 "metadata": {
  "kernelspec": {
   "display_name": "Python 3",
   "language": "python",
   "name": "python3"
  },
  "language_info": {
   "codemirror_mode": {
    "name": "ipython",
    "version": 3
   },
   "file_extension": ".py",
   "mimetype": "text/x-python",
   "name": "python",
   "nbconvert_exporter": "python",
   "pygments_lexer": "ipython3",
   "version": "3.6.4"
  }
 },
 "nbformat": 4,
 "nbformat_minor": 2
}
