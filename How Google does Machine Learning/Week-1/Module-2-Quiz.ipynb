{
 "cells": [
  {
   "cell_type": "markdown",
   "metadata": {},
   "source": [
    "#### 1. Which of the following scenarios may require a supervised learning model to be retrained as a new model?"
   ]
  },
  {
   "cell_type": "markdown",
   "metadata": {},
   "source": [
    "##### Ans: The model was trained on labeled data and we now wish to correct the labels of the data. "
   ]
  },
  {
   "cell_type": "markdown",
   "metadata": {},
   "source": [
    "##### 2. A team is preparing to develop and deploy an ML model for use on a shopping website. They have collected a little data to train the model. The team plans on gathering more data once the model is developed. Now they are ready for the next phase, training.\n",
    "\n",
    "#### Which of these scenarios will most likely lead to a successful deployment of the ML model?"
   ]
  },
  {
   "cell_type": "markdown",
   "metadata": {},
   "source": [
    "##### Ans: The team should take time to gather more data because the quality and architecture of the model are affected by the amount of data."
   ]
  },
  {
   "cell_type": "markdown",
   "metadata": {},
   "source": [
    "#### 3. An online shopping company has a team of customer representatives read emails from customers. Depending upon the content of the email, the representative routes the email to the appropriate department.\n",
    "\n",
    "#### The company would like to alleviate the customer representatives task by automating it. Your team has been asked to create an app to read customer emails and determine which department should handle it.\n",
    "\n",
    "#### Which of these would be a good way to structure the app (chose all that apply)?"
   ]
  },
  {
   "cell_type": "markdown",
   "metadata": {},
   "source": [
    "##### Ans: The team should use several models in the app, one for each task. If there are any pre-existing models the team should use them."
   ]
  }
 ],
 "metadata": {
  "kernelspec": {
   "display_name": "Python 3",
   "language": "python",
   "name": "python3"
  },
  "language_info": {
   "codemirror_mode": {
    "name": "ipython",
    "version": 3
   },
   "file_extension": ".py",
   "mimetype": "text/x-python",
   "name": "python",
   "nbconvert_exporter": "python",
   "pygments_lexer": "ipython3",
   "version": "3.6.4"
  }
 },
 "nbformat": 4,
 "nbformat_minor": 2
}
