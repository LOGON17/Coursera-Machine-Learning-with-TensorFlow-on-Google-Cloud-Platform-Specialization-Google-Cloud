{
 "cells": [
  {
   "cell_type": "markdown",
   "metadata": {},
   "source": [
    "#### 1. You have been hired as a consultant by a concession operator. The company created an ML model to infer the demand for ice cold slushie drinks at international golf tournaments.\n",
    "\n",
    "#### The model has been trained on a million sales of the drinks at past golf tournaments, using tournament attendance, the price of drinks, and size of the drink ordered.\n",
    "\n",
    "#### Unfortunately, it appears the model is not accurately predicting sales of slushies. Which of the following are reasonable conclusions?"
   ]
  },
  {
   "cell_type": "markdown",
   "metadata": {},
   "source": [
    "##### Ans: Outdoor temperatures could be affecting sales. Cold days may not be the best time to sell ice cold drinks and maybe ice cold slushies are not as refreshing in Alaska as in Mexico"
   ]
  },
  {
   "cell_type": "markdown",
   "metadata": {},
   "source": [
    "#### 2. You fixed the ice cold slushie model, it is now accurately predicting total sales of slushies. The model also infers the demand for each of the three slushie flavors (coffee, bubblegum, and watermelon) and places a reorder when the flavor supply drops below 10 bottles .\n",
    "\n",
    "#### Unfortunately, the model has only been accurate with the watermelon flavor. Both the coffee and bubblegum flavors are overstocked at some tournaments and understocked at others.\n",
    "\n",
    "#### Which of the following are reasonable conclusions?\n",
    "\n",
    "##### (Select all 2 correct answers)"
   ]
  },
  {
   "cell_type": "markdown",
   "metadata": {},
   "source": [
    "##### Ans:\n",
    "<ul>\n",
    "    <li>Coffee and bubblegum may be regional favorites. You should look for a correlation between consumption of these flavors and the geographic location of the tournaments. </li>\n",
    "    <li>Coffee and bubblegum are flavors that appeal to different subgroups - adults and kids. You should examine attendance by adults and kids at tournaments to see if there is a correlation with sales.</li>\n",
    "</ul>"
   ]
  },
  {
   "cell_type": "markdown",
   "metadata": {},
   "source": [
    "#### 3. You have modified the model to account for adult and child attendance at golf tournaments. The model is accurately predicting sales and correctly ordering the coffee and watermelon flavors. There is still a problem with the bubblegum supply, it is constantly in overstock.\n",
    "\n",
    "#### Which of the following are reasonable conclusions?\n",
    "\n",
    "##### (Select all 2 correct answers)"
   ]
  },
  {
   "cell_type": "markdown",
   "metadata": {},
   "source": [
    "##### Ans:\n",
    "<ul>\n",
    "    <li>Bubblegum flavoring is preferred by children, who usually order the kid size drink. Which requires the least amount of flavoring. So when we are down to 10 bottles of the other flavors, we are down to a 40 drink supply. Ten bottles for kid size drinks is 100 drinks.</li>\n",
    "    <li>Bubblegum is a strong flavor, you use less of it to flavor drinks. So it is possible the 10 bottle minimum might be too high.</li>\n",
    "</ul>"
   ]
  }
 ],
 "metadata": {
  "kernelspec": {
   "display_name": "Python 3",
   "language": "python",
   "name": "python3"
  },
  "language_info": {
   "codemirror_mode": {
    "name": "ipython",
    "version": 3
   },
   "file_extension": ".py",
   "mimetype": "text/x-python",
   "name": "python",
   "nbconvert_exporter": "python",
   "pygments_lexer": "ipython3",
   "version": "3.6.4"
  }
 },
 "nbformat": 4,
 "nbformat_minor": 2
}
