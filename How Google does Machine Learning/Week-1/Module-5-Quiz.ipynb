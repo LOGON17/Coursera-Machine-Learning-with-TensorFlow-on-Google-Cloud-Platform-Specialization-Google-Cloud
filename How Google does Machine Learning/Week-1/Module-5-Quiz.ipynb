{
 "cells": [
  {
   "cell_type": "markdown",
   "metadata": {},
   "source": [
    "#### 1. You are going to develop an ML model. You are in Canada and the rest of the team is in Mexico.\n",
    "\n",
    "#### Your team wants to use Google Cloud Platform with Python Notebook. Which of the following statements support your decision."
   ]
  },
  {
   "cell_type": "markdown",
   "metadata": {},
   "source": [
    "##### Ans: Datalab notebooks are hosted in the cloud"
   ]
  },
  {
   "cell_type": "markdown",
   "metadata": {},
   "source": [
    "#### 2. Your team has decided to use the Compute Engine, Cloud Storage, and Datalab for ML model development\n",
    "\n",
    "#### Which of the following statements are applicable to your situation (choose all that apply)"
   ]
  },
  {
   "cell_type": "markdown",
   "metadata": {},
   "source": [
    "##### Ans: \n",
    "<ul>\n",
    "    <li>Every member of the team, regardless of their location, can directly read data from Cloud Storage</li>\n",
    "    <li>Latency of data access can be a concern, so carefully select the zone for data storage</li>\n",
    "</ul>"
   ]
  },
  {
   "cell_type": "markdown",
   "metadata": {},
   "source": [
    "#### 3. Rewrite this sentence by filling in the blanks with a single word each:\n",
    "\n",
    "#### The third wave of cloud is _________________ so you can focus on data ___________ instead of infrastructure.\n",
    "\n",
    "#### Word bank: insights, hardware, infrastructure, scalable, cloud-first, serverless, machine learning, GCP, iPython Notebooks"
   ]
  },
  {
   "cell_type": "markdown",
   "metadata": {},
   "source": [
    "##### (Wrong)Ans: The third wave of cloud is serverless so you can focus on data cloud-first instead of infrastructure."
   ]
  }
 ],
 "metadata": {
  "kernelspec": {
   "display_name": "Python 3",
   "language": "python",
   "name": "python3"
  },
  "language_info": {
   "codemirror_mode": {
    "name": "ipython",
    "version": 3
   },
   "file_extension": ".py",
   "mimetype": "text/x-python",
   "name": "python",
   "nbconvert_exporter": "python",
   "pygments_lexer": "ipython3",
   "version": "3.6.4"
  }
 },
 "nbformat": 4,
 "nbformat_minor": 2
}
