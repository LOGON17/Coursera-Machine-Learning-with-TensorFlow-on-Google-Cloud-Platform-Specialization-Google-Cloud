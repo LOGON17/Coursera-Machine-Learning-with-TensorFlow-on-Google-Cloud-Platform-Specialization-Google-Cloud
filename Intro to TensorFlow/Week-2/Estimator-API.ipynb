{
 "cells": [
  {
   "cell_type": "markdown",
   "metadata": {},
   "source": [
    "#### 1. What are some of the key goals of the estimator API?"
   ]
  },
  {
   "cell_type": "markdown",
   "metadata": {},
   "source": [
    "##### Ans: \n",
    "<ul>\n",
    "    <li>Create production-ready machine learning models using an API</li>\n",
    "    <li>Train on large datasets that do not fit in memory</li>\n",
    "    <li>Quickly monitor your training metrics in Tensorboard</li>\n",
    "</ul>"
   ]
  },
  {
   "cell_type": "markdown",
   "metadata": {},
   "source": [
    "#### 2. What is one of the largest benefits of the estimator API?"
   ]
  },
  {
   "cell_type": "markdown",
   "metadata": {},
   "source": [
    "##### Ans: It abstracts away boilerplate code which saves you time"
   ]
  },
  {
   "cell_type": "markdown",
   "metadata": {},
   "source": [
    "#### 3. What is the right way to call a linear regression model with tf.estimator?"
   ]
  },
  {
   "cell_type": "markdown",
   "metadata": {},
   "source": [
    "##### Ans: tf.estimator.LinearRegressor"
   ]
  },
  {
   "cell_type": "markdown",
   "metadata": {},
   "source": [
    "#### 4. Inputs to the estimator model are in the form of:"
   ]
  },
  {
   "cell_type": "markdown",
   "metadata": {},
   "source": [
    "##### Ans: feature columns"
   ]
  },
  {
   "cell_type": "markdown",
   "metadata": {},
   "source": [
    "#### 5. Numeric inputs can be passed to a linear regressor as-is, but categorical columns are often:"
   ]
  },
  {
   "cell_type": "markdown",
   "metadata": {},
   "source": [
    "##### Ans: One-hot encoded"
   ]
  },
  {
   "cell_type": "markdown",
   "metadata": {},
   "source": [
    "#### 6. What is the size of the training dataset (features + labels) in this example?\n",
    "<img src=\"https://d3c33hcgiwev3.cloudfront.net/imageAssetProxy.v1/hlgUhEGSEeiwvxLjBU9XLg_5bec28ace166d54ab1308710927fd5eb_size.jpg?expiry=1542931200000&amp;hmac=sBBVoBWSnItVEYl4CekZrKRBtncu_AkB1vqRcCIqZD0\" alt=\"\">"
   ]
  },
  {
   "cell_type": "markdown",
   "metadata": {},
   "source": [
    "##### Ans: 6 rows, 3 columns"
   ]
  },
  {
   "cell_type": "markdown",
   "metadata": {},
   "source": [
    "#### 7. In this example, what extra parameters does the DNNRegressor take that the LinearRegressor doesn't?\n",
    "<img src=\"https://d3c33hcgiwev3.cloudfront.net/imageAssetProxy.v1/yfw2hUGSEeieJwrYiMRpMg_4c35af92d3564eff05c32209675fd4d4_sizee.jpg?expiry=1542931200000&amp;hmac=PAM_LZOyfUWS0VNxfX4t3DZftf-_k6rqbvhC_GrcFtc\" alt=\"\">"
   ]
  },
  {
   "cell_type": "markdown",
   "metadata": {},
   "source": [
    "##### Ans: hidden_units"
   ]
  },
  {
   "cell_type": "markdown",
   "metadata": {},
   "source": [
    "#### 8. In what situation do you have to delete the model directory before starting training?"
   ]
  },
  {
   "cell_type": "markdown",
   "metadata": {},
   "source": [
    "##### Ans: If you have changed the model structure from the previous time, for example, you used a DNNRegressor with [64,32] last time and now you are using [32, 16]"
   ]
  },
  {
   "cell_type": "markdown",
   "metadata": {},
   "source": [
    "#### 9. What is the difference between steps and max_steps? \n",
    "<img src=\"https://d3c33hcgiwev3.cloudfront.net/imageAssetProxy.v1/QJG57kGTEeiwvxLjBU9XLg_149f39e32f1bfd18a6a155dc55f13fe4_steps.jpg?expiry=1542931200000&amp;hmac=v2B756c2aB3lJkYT8iCloHfdHPFWZOAK2OPiifipIxQ\" alt=\"\">"
   ]
  },
  {
   "cell_type": "markdown",
   "metadata": {},
   "source": [
    "##### Ans: Steps means \"train these many additional steps\". max_steps means \"train up to these many steps total, starting from how many ever steps have been completed so far\""
   ]
  }
 ],
 "metadata": {
  "kernelspec": {
   "display_name": "Python 3",
   "language": "python",
   "name": "python3"
  },
  "language_info": {
   "codemirror_mode": {
    "name": "ipython",
    "version": 3
   },
   "file_extension": ".py",
   "mimetype": "text/x-python",
   "name": "python",
   "nbconvert_exporter": "python",
   "pygments_lexer": "ipython3",
   "version": "3.6.4"
  }
 },
 "nbformat": 4,
 "nbformat_minor": 2
}
